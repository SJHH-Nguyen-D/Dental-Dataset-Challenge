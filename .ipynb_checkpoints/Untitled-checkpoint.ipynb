{
 "cells": [
  {
   "cell_type": "markdown",
   "metadata": {},
   "source": [
    "## Data Challenge\n",
    "\n",
    " \n",
    "\n",
    "Apart from the final results, we also want to see your work environment (raw data handling, code, etc) so be ready to share your screen and show us your work and results via zoom. I encourage you to ask questions during the interview, business or technical!\n",
    "\n",
    " \n",
    "\n",
    "In the attached dataset, you’ll find dental claims on a Member level for a benefit year. A data_summary tab is available to provide general guidance on the features.\n",
    "\n",
    " \n",
    "\n",
    "The desired outcome of this data challenge is to:\n",
    "\n",
    " \n",
    "\n",
    "Perform exploratory data analysis\n",
    "Find patterns and correlations where present\n",
    "Train a machine learning model to predict the claim amount for the Group Benefit Member ‘sum_paid_amt_after_cob’\n",
    "Explain the model with feature importance and feature impact\n",
    " \n",
    "\n",
    "You can use any tool or program, however please keep in mind that we generally work in Python and present results and visualizations in Tableau (you can get a trial version if you choose to use Tableau). This is just a suggestion, any other tool (like Excel, Power Point, R) would also be acceptable."
   ]
  },
  {
   "cell_type": "code",
   "execution_count": null,
   "metadata": {},
   "outputs": [],
   "source": []
  }
 ],
 "metadata": {
  "kernelspec": {
   "display_name": "mini-project-venv",
   "language": "python",
   "name": "mini-project-venv"
  },
  "language_info": {
   "codemirror_mode": {
    "name": "ipython",
    "version": 3
   },
   "file_extension": ".py",
   "mimetype": "text/x-python",
   "name": "python",
   "nbconvert_exporter": "python",
   "pygments_lexer": "ipython3",
   "version": "3.8.8"
  }
 },
 "nbformat": 4,
 "nbformat_minor": 2
}
